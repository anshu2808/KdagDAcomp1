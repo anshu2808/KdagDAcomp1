{
 "cells": [
  {
   "cell_type": "code",
   "execution_count": 1,
   "metadata": {},
   "outputs": [],
   "source": [
    "#Import the library\n",
    "import pandas as pd\n",
    "import numpy as np\n",
    "import sklearn\n",
    "import matplotlib.pyplot as plt\n",
    "import seaborn as sns\n",
    "from sklearn.preprocessing import LabelEncoder\n",
    "from sklearn.preprocessing import StandardScaler\n",
    "from sklearn.metrics import classification_report\n",
    "from sklearn.linear_model import LogisticRegression\n",
    "from sklearn.model_selection import train_test_split\n",
    "from sklearn.neighbors import LocalOutlierFactor\n",
    "from sklearn.metrics import mean_absolute_error\n",
    "from scipy.stats import norm\n",
    "%matplotlib inline"
   ]
  },
  {
   "cell_type": "code",
   "execution_count": 2,
   "metadata": {},
   "outputs": [],
   "source": [
    "df = pd.read_csv('S:\\dataproject\\AI Summer/train.csv')"
   ]
  },
  {
   "cell_type": "code",
   "execution_count": 3,
   "metadata": {},
   "outputs": [
    {
     "data": {
      "text/html": [
       "<div>\n",
       "<style scoped>\n",
       "    .dataframe tbody tr th:only-of-type {\n",
       "        vertical-align: middle;\n",
       "    }\n",
       "\n",
       "    .dataframe tbody tr th {\n",
       "        vertical-align: top;\n",
       "    }\n",
       "\n",
       "    .dataframe thead th {\n",
       "        text-align: right;\n",
       "    }\n",
       "</style>\n",
       "<table border=\"1\" class=\"dataframe\">\n",
       "  <thead>\n",
       "    <tr style=\"text-align: right;\">\n",
       "      <th></th>\n",
       "      <th>ID</th>\n",
       "      <th>sex</th>\n",
       "      <th>Aged</th>\n",
       "      <th>Married</th>\n",
       "      <th>TotalDependents</th>\n",
       "      <th>ServiceSpan</th>\n",
       "      <th>MobileService</th>\n",
       "      <th>4GService</th>\n",
       "      <th>CyberProtection</th>\n",
       "      <th>HardwareSupport</th>\n",
       "      <th>TechnicalAssistance</th>\n",
       "      <th>FilmSubscription</th>\n",
       "      <th>SettlementProcess</th>\n",
       "      <th>QuarterlyPayment</th>\n",
       "      <th>GrandPayment</th>\n",
       "      <th>CustomerAttrition</th>\n",
       "    </tr>\n",
       "  </thead>\n",
       "  <tbody>\n",
       "    <tr>\n",
       "      <th>0</th>\n",
       "      <td>B60LHTZLLPFU4IULNPUF</td>\n",
       "      <td>Female</td>\n",
       "      <td>No</td>\n",
       "      <td>No</td>\n",
       "      <td>Yes</td>\n",
       "      <td>48</td>\n",
       "      <td>Yes</td>\n",
       "      <td>Wifi Broadband</td>\n",
       "      <td>No</td>\n",
       "      <td>Yes</td>\n",
       "      <td>Yes</td>\n",
       "      <td>No</td>\n",
       "      <td>Check</td>\n",
       "      <td>96.259802</td>\n",
       "      <td>4628.129119</td>\n",
       "      <td>Yes</td>\n",
       "    </tr>\n",
       "    <tr>\n",
       "      <th>1</th>\n",
       "      <td>1RUJ7ONYZHYTWKOKO1SD</td>\n",
       "      <td>Male</td>\n",
       "      <td>No</td>\n",
       "      <td>Yes</td>\n",
       "      <td>No</td>\n",
       "      <td>45</td>\n",
       "      <td>Yes</td>\n",
       "      <td>Wifi Broadband</td>\n",
       "      <td>No</td>\n",
       "      <td>No</td>\n",
       "      <td>No</td>\n",
       "      <td>Yes</td>\n",
       "      <td>Bank</td>\n",
       "      <td>18.876470</td>\n",
       "      <td>922.085998</td>\n",
       "      <td>No</td>\n",
       "    </tr>\n",
       "    <tr>\n",
       "      <th>2</th>\n",
       "      <td>DZ9EEOQWSN0MYCBUPAM5</td>\n",
       "      <td>Male</td>\n",
       "      <td>Yes</td>\n",
       "      <td>Yes</td>\n",
       "      <td>No</td>\n",
       "      <td>59</td>\n",
       "      <td>Yes</td>\n",
       "      <td>Wifi Broadband</td>\n",
       "      <td>Yes</td>\n",
       "      <td>No</td>\n",
       "      <td>Yes</td>\n",
       "      <td>No</td>\n",
       "      <td>Card</td>\n",
       "      <td>106.016057</td>\n",
       "      <td>6205.891129</td>\n",
       "      <td>Yes</td>\n",
       "    </tr>\n",
       "    <tr>\n",
       "      <th>3</th>\n",
       "      <td>YZ43L1UQUQACTL1PXXZG</td>\n",
       "      <td>Male</td>\n",
       "      <td>No</td>\n",
       "      <td>No</td>\n",
       "      <td>No</td>\n",
       "      <td>14</td>\n",
       "      <td>Yes</td>\n",
       "      <td>Wifi Broadband</td>\n",
       "      <td>No</td>\n",
       "      <td>No</td>\n",
       "      <td>No</td>\n",
       "      <td>No</td>\n",
       "      <td>Check</td>\n",
       "      <td>80.108839</td>\n",
       "      <td>1248.655391</td>\n",
       "      <td>No</td>\n",
       "    </tr>\n",
       "    <tr>\n",
       "      <th>4</th>\n",
       "      <td>6P28152QGF60PDLSCB9M</td>\n",
       "      <td>Female</td>\n",
       "      <td>No</td>\n",
       "      <td>Yes</td>\n",
       "      <td>Yes</td>\n",
       "      <td>25</td>\n",
       "      <td>Yes</td>\n",
       "      <td>Wifi Broadband</td>\n",
       "      <td>No</td>\n",
       "      <td>Yes</td>\n",
       "      <td>No</td>\n",
       "      <td>Yes</td>\n",
       "      <td>Check</td>\n",
       "      <td>51.529773</td>\n",
       "      <td>1285.321277</td>\n",
       "      <td>No</td>\n",
       "    </tr>\n",
       "    <tr>\n",
       "      <th>5</th>\n",
       "      <td>60DE6HXH6KQRETDXAHLK</td>\n",
       "      <td>Male</td>\n",
       "      <td>No</td>\n",
       "      <td>Yes</td>\n",
       "      <td>Yes</td>\n",
       "      <td>27</td>\n",
       "      <td>Yes</td>\n",
       "      <td>Satellite Broadband</td>\n",
       "      <td>Yes</td>\n",
       "      <td>No</td>\n",
       "      <td>No</td>\n",
       "      <td>Yes</td>\n",
       "      <td>Card</td>\n",
       "      <td>96.384275</td>\n",
       "      <td>2650.779905</td>\n",
       "      <td>Yes</td>\n",
       "    </tr>\n",
       "    <tr>\n",
       "      <th>6</th>\n",
       "      <td>7GOZ81H8YZXQ3YPMZEB0</td>\n",
       "      <td>Male</td>\n",
       "      <td>Yes</td>\n",
       "      <td>Yes</td>\n",
       "      <td>No</td>\n",
       "      <td>53</td>\n",
       "      <td>Yes</td>\n",
       "      <td>Wifi Broadband</td>\n",
       "      <td>No</td>\n",
       "      <td>No</td>\n",
       "      <td>No</td>\n",
       "      <td>No</td>\n",
       "      <td>Check</td>\n",
       "      <td>17.291325</td>\n",
       "      <td>1032.254126</td>\n",
       "      <td>No</td>\n",
       "    </tr>\n",
       "    <tr>\n",
       "      <th>7</th>\n",
       "      <td>LTKNFUXFICQI8MSX5RWI</td>\n",
       "      <td>Female</td>\n",
       "      <td>Yes</td>\n",
       "      <td>No</td>\n",
       "      <td>Yes</td>\n",
       "      <td>0</td>\n",
       "      <td>Yes</td>\n",
       "      <td>Wifi Broadband</td>\n",
       "      <td>No</td>\n",
       "      <td>No</td>\n",
       "      <td>No</td>\n",
       "      <td>No</td>\n",
       "      <td>Electronic</td>\n",
       "      <td>70.062808</td>\n",
       "      <td>70.934345</td>\n",
       "      <td>Yes</td>\n",
       "    </tr>\n",
       "  </tbody>\n",
       "</table>\n",
       "</div>"
      ],
      "text/plain": [
       "                     ID     sex Aged Married TotalDependents  ServiceSpan  \\\n",
       "0  B60LHTZLLPFU4IULNPUF  Female   No      No             Yes           48   \n",
       "1  1RUJ7ONYZHYTWKOKO1SD    Male   No     Yes              No           45   \n",
       "2  DZ9EEOQWSN0MYCBUPAM5    Male  Yes     Yes              No           59   \n",
       "3  YZ43L1UQUQACTL1PXXZG    Male   No      No              No           14   \n",
       "4  6P28152QGF60PDLSCB9M  Female   No     Yes             Yes           25   \n",
       "5  60DE6HXH6KQRETDXAHLK    Male   No     Yes             Yes           27   \n",
       "6  7GOZ81H8YZXQ3YPMZEB0    Male  Yes     Yes              No           53   \n",
       "7  LTKNFUXFICQI8MSX5RWI  Female  Yes      No             Yes            0   \n",
       "\n",
       "  MobileService            4GService CyberProtection HardwareSupport  \\\n",
       "0           Yes       Wifi Broadband              No             Yes   \n",
       "1           Yes       Wifi Broadband              No              No   \n",
       "2           Yes       Wifi Broadband             Yes              No   \n",
       "3           Yes       Wifi Broadband              No              No   \n",
       "4           Yes       Wifi Broadband              No             Yes   \n",
       "5           Yes  Satellite Broadband             Yes              No   \n",
       "6           Yes       Wifi Broadband              No              No   \n",
       "7           Yes       Wifi Broadband              No              No   \n",
       "\n",
       "  TechnicalAssistance FilmSubscription SettlementProcess  QuarterlyPayment  \\\n",
       "0                 Yes               No             Check         96.259802   \n",
       "1                  No              Yes              Bank         18.876470   \n",
       "2                 Yes               No              Card        106.016057   \n",
       "3                  No               No             Check         80.108839   \n",
       "4                  No              Yes             Check         51.529773   \n",
       "5                  No              Yes              Card         96.384275   \n",
       "6                  No               No             Check         17.291325   \n",
       "7                  No               No        Electronic         70.062808   \n",
       "\n",
       "   GrandPayment CustomerAttrition  \n",
       "0   4628.129119               Yes  \n",
       "1    922.085998                No  \n",
       "2   6205.891129               Yes  \n",
       "3   1248.655391                No  \n",
       "4   1285.321277                No  \n",
       "5   2650.779905               Yes  \n",
       "6   1032.254126                No  \n",
       "7     70.934345               Yes  "
      ]
     },
     "execution_count": 3,
     "metadata": {},
     "output_type": "execute_result"
    }
   ],
   "source": [
    "df.head(8)"
   ]
  },
  {
   "cell_type": "code",
   "execution_count": 4,
   "metadata": {},
   "outputs": [
    {
     "name": "stdout",
     "output_type": "stream",
     "text": [
      "(6338, 16)\n"
     ]
    }
   ],
   "source": [
    "print(df.shape)"
   ]
  },
  {
   "cell_type": "code",
   "execution_count": 5,
   "metadata": {},
   "outputs": [
    {
     "data": {
      "text/plain": [
       "array(['ID', 'sex', 'Aged', 'Married', 'TotalDependents', 'ServiceSpan',\n",
       "       'MobileService', '4GService', 'CyberProtection', 'HardwareSupport',\n",
       "       'TechnicalAssistance', 'FilmSubscription', 'SettlementProcess',\n",
       "       'QuarterlyPayment', 'GrandPayment', 'CustomerAttrition'],\n",
       "      dtype=object)"
      ]
     },
     "execution_count": 5,
     "metadata": {},
     "output_type": "execute_result"
    }
   ],
   "source": [
    "df.columns.values"
   ]
  },
  {
   "cell_type": "code",
   "execution_count": 6,
   "metadata": {},
   "outputs": [
    {
     "data": {
      "text/plain": [
       "ID                      0\n",
       "sex                     0\n",
       "Aged                    0\n",
       "Married                 0\n",
       "TotalDependents         0\n",
       "ServiceSpan             0\n",
       "MobileService           0\n",
       "4GService               0\n",
       "CyberProtection         0\n",
       "HardwareSupport         0\n",
       "TechnicalAssistance     0\n",
       "FilmSubscription        0\n",
       "SettlementProcess       0\n",
       "QuarterlyPayment        0\n",
       "GrandPayment           10\n",
       "CustomerAttrition       0\n",
       "dtype: int64"
      ]
     },
     "execution_count": 6,
     "metadata": {},
     "output_type": "execute_result"
    }
   ],
   "source": [
    "df.isna().sum()"
   ]
  },
  {
   "cell_type": "code",
   "execution_count": 7,
   "metadata": {},
   "outputs": [],
   "source": [
    "df = df.dropna()"
   ]
  },
  {
   "cell_type": "code",
   "execution_count": 8,
   "metadata": {},
   "outputs": [
    {
     "data": {
      "text/plain": [
       "ID                     0\n",
       "sex                    0\n",
       "Aged                   0\n",
       "Married                0\n",
       "TotalDependents        0\n",
       "ServiceSpan            0\n",
       "MobileService          0\n",
       "4GService              0\n",
       "CyberProtection        0\n",
       "HardwareSupport        0\n",
       "TechnicalAssistance    0\n",
       "FilmSubscription       0\n",
       "SettlementProcess      0\n",
       "QuarterlyPayment       0\n",
       "GrandPayment           0\n",
       "CustomerAttrition      0\n",
       "dtype: int64"
      ]
     },
     "execution_count": 8,
     "metadata": {},
     "output_type": "execute_result"
    }
   ],
   "source": [
    "df.isna().sum()"
   ]
  },
  {
   "cell_type": "code",
   "execution_count": 9,
   "metadata": {},
   "outputs": [
    {
     "data": {
      "text/html": [
       "<div>\n",
       "<style scoped>\n",
       "    .dataframe tbody tr th:only-of-type {\n",
       "        vertical-align: middle;\n",
       "    }\n",
       "\n",
       "    .dataframe tbody tr th {\n",
       "        vertical-align: top;\n",
       "    }\n",
       "\n",
       "    .dataframe thead th {\n",
       "        text-align: right;\n",
       "    }\n",
       "</style>\n",
       "<table border=\"1\" class=\"dataframe\">\n",
       "  <thead>\n",
       "    <tr style=\"text-align: right;\">\n",
       "      <th></th>\n",
       "      <th>ServiceSpan</th>\n",
       "      <th>QuarterlyPayment</th>\n",
       "      <th>GrandPayment</th>\n",
       "    </tr>\n",
       "  </thead>\n",
       "  <tbody>\n",
       "    <tr>\n",
       "      <th>count</th>\n",
       "      <td>6328.000000</td>\n",
       "      <td>6328.000000</td>\n",
       "      <td>6328.000000</td>\n",
       "    </tr>\n",
       "    <tr>\n",
       "      <th>mean</th>\n",
       "      <td>31.996365</td>\n",
       "      <td>64.854863</td>\n",
       "      <td>2290.544207</td>\n",
       "    </tr>\n",
       "    <tr>\n",
       "      <th>std</th>\n",
       "      <td>24.546344</td>\n",
       "      <td>30.184497</td>\n",
       "      <td>2265.181098</td>\n",
       "    </tr>\n",
       "    <tr>\n",
       "      <th>min</th>\n",
       "      <td>-1.000000</td>\n",
       "      <td>16.504109</td>\n",
       "      <td>16.297961</td>\n",
       "    </tr>\n",
       "    <tr>\n",
       "      <th>25%</th>\n",
       "      <td>8.000000</td>\n",
       "      <td>35.694447</td>\n",
       "      <td>401.849530</td>\n",
       "    </tr>\n",
       "    <tr>\n",
       "      <th>50%</th>\n",
       "      <td>29.000000</td>\n",
       "      <td>70.568405</td>\n",
       "      <td>1407.589119</td>\n",
       "    </tr>\n",
       "    <tr>\n",
       "      <th>75%</th>\n",
       "      <td>55.000000</td>\n",
       "      <td>90.078020</td>\n",
       "      <td>3823.855846</td>\n",
       "    </tr>\n",
       "    <tr>\n",
       "      <th>max</th>\n",
       "      <td>73.000000</td>\n",
       "      <td>120.159190</td>\n",
       "      <td>8685.848657</td>\n",
       "    </tr>\n",
       "  </tbody>\n",
       "</table>\n",
       "</div>"
      ],
      "text/plain": [
       "       ServiceSpan  QuarterlyPayment  GrandPayment\n",
       "count  6328.000000       6328.000000   6328.000000\n",
       "mean     31.996365         64.854863   2290.544207\n",
       "std      24.546344         30.184497   2265.181098\n",
       "min      -1.000000         16.504109     16.297961\n",
       "25%       8.000000         35.694447    401.849530\n",
       "50%      29.000000         70.568405   1407.589119\n",
       "75%      55.000000         90.078020   3823.855846\n",
       "max      73.000000        120.159190   8685.848657"
      ]
     },
     "execution_count": 9,
     "metadata": {},
     "output_type": "execute_result"
    }
   ],
   "source": [
    "df.describe()"
   ]
  },
  {
   "cell_type": "code",
   "execution_count": 10,
   "metadata": {},
   "outputs": [
    {
     "data": {
      "text/plain": [
       "[<matplotlib.lines.Line2D at 0x28209309d90>]"
      ]
     },
     "execution_count": 10,
     "metadata": {},
     "output_type": "execute_result"
    },
    {
     "data": {
      "image/png": "[encoded data removed]",
      "text/plain": [
       "<Figure size 432x288 with 1 Axes>"
      ]
     },
     "metadata": {
      "needs_background": "light"
     },
     "output_type": "display_data"
    }
   ],
   "source": [
    "plt.hist(df.ServiceSpan,bins=20, rwidth = 0.8, density=True)\n",
    "plt.xlabel('Service Span')\n",
    "plt.ylabel('Count')\n",
    "\n",
    "rng = np.arange(df.ServiceSpan.min(),df.ServiceSpan.max(),0.1)\n",
    "plt.plot(rng,norm.pdf(rng,df.ServiceSpan.mean(),df.ServiceSpan.std()))"
   ]
  },
  {
   "cell_type": "code",
   "execution_count": 11,
   "metadata": {},
   "outputs": [
    {
     "data": {
      "text/plain": [
       "[<matplotlib.lines.Line2D at 0x28209749a30>]"
      ]
     },
     "execution_count": 11,
     "metadata": {},
     "output_type": "execute_result"
    },
    {
     "data": {
      "image/png": "[encoded data removed]",
      "text/plain": [
       "<Figure size 432x288 with 1 Axes>"
      ]
     },
     "metadata": {
      "needs_background": "light"
     },
     "output_type": "display_data"
    }
   ],
   "source": [
    "plt.hist(df.QuarterlyPayment,bins=20, rwidth = 0.8, density=True)\n",
    "plt.xlabel('Quarterly Payment')\n",
    "plt.ylabel('Count')\n",
    "\n",
    "rng = np.arange(df.QuarterlyPayment.min(),df.QuarterlyPayment.max(),0.1)\n",
    "plt.plot(rng,norm.pdf(rng,df.QuarterlyPayment.mean(),df.QuarterlyPayment.std()))"
   ]
  },
  {
   "cell_type": "code",
   "execution_count": 12,
   "metadata": {},
   "outputs": [
    {
     "data": {
      "text/plain": [
       "[<matplotlib.lines.Line2D at 0x282097e2ca0>]"
      ]
     },
     "execution_count": 12,
     "metadata": {},
     "output_type": "execute_result"
    },
    {
     "data": {
      "image/png": "[encoded data removed]",
      "text/plain": [
       "<Figure size 432x288 with 1 Axes>"
      ]
     },
     "metadata": {
      "needs_background": "light"
     },
     "output_type": "display_data"
    }
   ],
   "source": [
    "plt.hist(df.GrandPayment,bins=20, rwidth = 0.8, density=True)\n",
    "plt.xlabel('Grand Payment')\n",
    "plt.ylabel('Count')\n",
    "\n",
    "rng = np.arange(df.GrandPayment.min(),df.GrandPayment.max(),0.1)\n",
    "plt.plot(rng,norm.pdf(rng,df.GrandPayment.mean(),df.GrandPayment.std()))"
   ]
  },
  {
   "cell_type": "code",
   "execution_count": 13,
   "metadata": {},
   "outputs": [
    {
     "data": {
      "text/html": [
       "<div>\n",
       "<style scoped>\n",
       "    .dataframe tbody tr th:only-of-type {\n",
       "        vertical-align: middle;\n",
       "    }\n",
       "\n",
       "    .dataframe tbody tr th {\n",
       "        vertical-align: top;\n",
       "    }\n",
       "\n",
       "    .dataframe thead th {\n",
       "        text-align: right;\n",
       "    }\n",
       "</style>\n",
       "<table border=\"1\" class=\"dataframe\">\n",
       "  <thead>\n",
       "    <tr style=\"text-align: right;\">\n",
       "      <th></th>\n",
       "      <th>ID</th>\n",
       "      <th>sex</th>\n",
       "      <th>Aged</th>\n",
       "      <th>Married</th>\n",
       "      <th>TotalDependents</th>\n",
       "      <th>ServiceSpan</th>\n",
       "      <th>MobileService</th>\n",
       "      <th>4GService</th>\n",
       "      <th>CyberProtection</th>\n",
       "      <th>HardwareSupport</th>\n",
       "      <th>TechnicalAssistance</th>\n",
       "      <th>FilmSubscription</th>\n",
       "      <th>SettlementProcess</th>\n",
       "      <th>QuarterlyPayment</th>\n",
       "      <th>GrandPayment</th>\n",
       "      <th>CustomerAttrition</th>\n",
       "    </tr>\n",
       "  </thead>\n",
       "  <tbody>\n",
       "    <tr>\n",
       "      <th>0</th>\n",
       "      <td>B60LHTZLLPFU4IULNPUF</td>\n",
       "      <td>Female</td>\n",
       "      <td>No</td>\n",
       "      <td>No</td>\n",
       "      <td>Yes</td>\n",
       "      <td>48</td>\n",
       "      <td>Yes</td>\n",
       "      <td>Wifi Broadband</td>\n",
       "      <td>No</td>\n",
       "      <td>Yes</td>\n",
       "      <td>Yes</td>\n",
       "      <td>No</td>\n",
       "      <td>Check</td>\n",
       "      <td>96.259802</td>\n",
       "      <td>4628.129119</td>\n",
       "      <td>Yes</td>\n",
       "    </tr>\n",
       "    <tr>\n",
       "      <th>1</th>\n",
       "      <td>1RUJ7ONYZHYTWKOKO1SD</td>\n",
       "      <td>Male</td>\n",
       "      <td>No</td>\n",
       "      <td>Yes</td>\n",
       "      <td>No</td>\n",
       "      <td>45</td>\n",
       "      <td>Yes</td>\n",
       "      <td>Wifi Broadband</td>\n",
       "      <td>No</td>\n",
       "      <td>No</td>\n",
       "      <td>No</td>\n",
       "      <td>Yes</td>\n",
       "      <td>Bank</td>\n",
       "      <td>18.876470</td>\n",
       "      <td>922.085998</td>\n",
       "      <td>No</td>\n",
       "    </tr>\n",
       "    <tr>\n",
       "      <th>2</th>\n",
       "      <td>DZ9EEOQWSN0MYCBUPAM5</td>\n",
       "      <td>Male</td>\n",
       "      <td>Yes</td>\n",
       "      <td>Yes</td>\n",
       "      <td>No</td>\n",
       "      <td>59</td>\n",
       "      <td>Yes</td>\n",
       "      <td>Wifi Broadband</td>\n",
       "      <td>Yes</td>\n",
       "      <td>No</td>\n",
       "      <td>Yes</td>\n",
       "      <td>No</td>\n",
       "      <td>Card</td>\n",
       "      <td>106.016057</td>\n",
       "      <td>6205.891129</td>\n",
       "      <td>Yes</td>\n",
       "    </tr>\n",
       "    <tr>\n",
       "      <th>3</th>\n",
       "      <td>YZ43L1UQUQACTL1PXXZG</td>\n",
       "      <td>Male</td>\n",
       "      <td>No</td>\n",
       "      <td>No</td>\n",
       "      <td>No</td>\n",
       "      <td>14</td>\n",
       "      <td>Yes</td>\n",
       "      <td>Wifi Broadband</td>\n",
       "      <td>No</td>\n",
       "      <td>No</td>\n",
       "      <td>No</td>\n",
       "      <td>No</td>\n",
       "      <td>Check</td>\n",
       "      <td>80.108839</td>\n",
       "      <td>1248.655391</td>\n",
       "      <td>No</td>\n",
       "    </tr>\n",
       "    <tr>\n",
       "      <th>4</th>\n",
       "      <td>6P28152QGF60PDLSCB9M</td>\n",
       "      <td>Female</td>\n",
       "      <td>No</td>\n",
       "      <td>Yes</td>\n",
       "      <td>Yes</td>\n",
       "      <td>25</td>\n",
       "      <td>Yes</td>\n",
       "      <td>Wifi Broadband</td>\n",
       "      <td>No</td>\n",
       "      <td>Yes</td>\n",
       "      <td>No</td>\n",
       "      <td>Yes</td>\n",
       "      <td>Check</td>\n",
       "      <td>51.529773</td>\n",
       "      <td>1285.321277</td>\n",
       "      <td>No</td>\n",
       "    </tr>\n",
       "    <tr>\n",
       "      <th>...</th>\n",
       "      <td>...</td>\n",
       "      <td>...</td>\n",
       "      <td>...</td>\n",
       "      <td>...</td>\n",
       "      <td>...</td>\n",
       "      <td>...</td>\n",
       "      <td>...</td>\n",
       "      <td>...</td>\n",
       "      <td>...</td>\n",
       "      <td>...</td>\n",
       "      <td>...</td>\n",
       "      <td>...</td>\n",
       "      <td>...</td>\n",
       "      <td>...</td>\n",
       "      <td>...</td>\n",
       "      <td>...</td>\n",
       "    </tr>\n",
       "    <tr>\n",
       "      <th>6332</th>\n",
       "      <td>07HD9DL5IFEF06ADGZQJ</td>\n",
       "      <td>Male</td>\n",
       "      <td>No</td>\n",
       "      <td>No</td>\n",
       "      <td>No</td>\n",
       "      <td>2</td>\n",
       "      <td>Yes</td>\n",
       "      <td>No</td>\n",
       "      <td>No</td>\n",
       "      <td>No</td>\n",
       "      <td>No</td>\n",
       "      <td>Yes</td>\n",
       "      <td>Electronic</td>\n",
       "      <td>70.750293</td>\n",
       "      <td>69.094592</td>\n",
       "      <td>Yes</td>\n",
       "    </tr>\n",
       "    <tr>\n",
       "      <th>6333</th>\n",
       "      <td>Y7U717HO87PCW6XXIQA1</td>\n",
       "      <td>Female</td>\n",
       "      <td>Yes</td>\n",
       "      <td>No</td>\n",
       "      <td>No</td>\n",
       "      <td>3</td>\n",
       "      <td>Yes</td>\n",
       "      <td>Wifi Broadband</td>\n",
       "      <td>No</td>\n",
       "      <td>Yes</td>\n",
       "      <td>No</td>\n",
       "      <td>Yes</td>\n",
       "      <td>Card</td>\n",
       "      <td>100.391595</td>\n",
       "      <td>441.914530</td>\n",
       "      <td>Yes</td>\n",
       "    </tr>\n",
       "    <tr>\n",
       "      <th>6335</th>\n",
       "      <td>ZBBW7H8AYLZJ2HK5TBBJ</td>\n",
       "      <td>Male</td>\n",
       "      <td>No</td>\n",
       "      <td>No</td>\n",
       "      <td>Yes</td>\n",
       "      <td>18</td>\n",
       "      <td>Yes</td>\n",
       "      <td>No</td>\n",
       "      <td>No</td>\n",
       "      <td>No</td>\n",
       "      <td>No</td>\n",
       "      <td>No</td>\n",
       "      <td>Electronic</td>\n",
       "      <td>35.941713</td>\n",
       "      <td>552.181341</td>\n",
       "      <td>Yes</td>\n",
       "    </tr>\n",
       "    <tr>\n",
       "      <th>6336</th>\n",
       "      <td>BUE75NSSLT2S2URTKZRN</td>\n",
       "      <td>Male</td>\n",
       "      <td>No</td>\n",
       "      <td>Yes</td>\n",
       "      <td>No</td>\n",
       "      <td>46</td>\n",
       "      <td>Yes</td>\n",
       "      <td>No</td>\n",
       "      <td>No</td>\n",
       "      <td>No</td>\n",
       "      <td>No</td>\n",
       "      <td>Yes</td>\n",
       "      <td>Card</td>\n",
       "      <td>94.762984</td>\n",
       "      <td>4563.812326</td>\n",
       "      <td>No</td>\n",
       "    </tr>\n",
       "    <tr>\n",
       "      <th>6337</th>\n",
       "      <td>IRFAYIAO820RIX2GUFFF</td>\n",
       "      <td>Female</td>\n",
       "      <td>No</td>\n",
       "      <td>No</td>\n",
       "      <td>No</td>\n",
       "      <td>60</td>\n",
       "      <td>Yes</td>\n",
       "      <td>Satellite Broadband</td>\n",
       "      <td>No</td>\n",
       "      <td>No</td>\n",
       "      <td>No</td>\n",
       "      <td>No</td>\n",
       "      <td>Bank</td>\n",
       "      <td>94.337343</td>\n",
       "      <td>5756.542013</td>\n",
       "      <td>No</td>\n",
       "    </tr>\n",
       "  </tbody>\n",
       "</table>\n",
       "<p>6195 rows × 16 columns</p>\n",
       "</div>"
      ],
      "text/plain": [
       "                        ID     sex Aged Married TotalDependents  ServiceSpan  \\\n",
       "0     B60LHTZLLPFU4IULNPUF  Female   No      No             Yes           48   \n",
       "1     1RUJ7ONYZHYTWKOKO1SD    Male   No     Yes              No           45   \n",
       "2     DZ9EEOQWSN0MYCBUPAM5    Male  Yes     Yes              No           59   \n",
       "3     YZ43L1UQUQACTL1PXXZG    Male   No      No              No           14   \n",
       "4     6P28152QGF60PDLSCB9M  Female   No     Yes             Yes           25   \n",
       "...                    ...     ...  ...     ...             ...          ...   \n",
       "6332  07HD9DL5IFEF06ADGZQJ    Male   No      No              No            2   \n",
       "6333  Y7U717HO87PCW6XXIQA1  Female  Yes      No              No            3   \n",
       "6335  ZBBW7H8AYLZJ2HK5TBBJ    Male   No      No             Yes           18   \n",
       "6336  BUE75NSSLT2S2URTKZRN    Male   No     Yes              No           46   \n",
       "6337  IRFAYIAO820RIX2GUFFF  Female   No      No              No           60   \n",
       "\n",
       "     MobileService            4GService CyberProtection HardwareSupport  \\\n",
       "0              Yes       Wifi Broadband              No             Yes   \n",
       "1              Yes       Wifi Broadband              No              No   \n",
       "2              Yes       Wifi Broadband             Yes              No   \n",
       "3              Yes       Wifi Broadband              No              No   \n",
       "4              Yes       Wifi Broadband              No             Yes   \n",
       "...            ...                  ...             ...             ...   \n",
       "6332           Yes                   No              No              No   \n",
       "6333           Yes       Wifi Broadband              No             Yes   \n",
       "6335           Yes                   No              No              No   \n",
       "6336           Yes                   No              No              No   \n",
       "6337           Yes  Satellite Broadband              No              No   \n",
       "\n",
       "     TechnicalAssistance FilmSubscription SettlementProcess  QuarterlyPayment  \\\n",
       "0                    Yes               No             Check         96.259802   \n",
       "1                     No              Yes              Bank         18.876470   \n",
       "2                    Yes               No              Card        106.016057   \n",
       "3                     No               No             Check         80.108839   \n",
       "4                     No              Yes             Check         51.529773   \n",
       "...                  ...              ...               ...               ...   \n",
       "6332                  No              Yes        Electronic         70.750293   \n",
       "6333                  No              Yes              Card        100.391595   \n",
       "6335                  No               No        Electronic         35.941713   \n",
       "6336                  No              Yes              Card         94.762984   \n",
       "6337                  No               No              Bank         94.337343   \n",
       "\n",
       "      GrandPayment CustomerAttrition  \n",
       "0      4628.129119               Yes  \n",
       "1       922.085998                No  \n",
       "2      6205.891129               Yes  \n",
       "3      1248.655391                No  \n",
       "4      1285.321277                No  \n",
       "...            ...               ...  \n",
       "6332     69.094592               Yes  \n",
       "6333    441.914530               Yes  \n",
       "6335    552.181341               Yes  \n",
       "6336   4563.812326                No  \n",
       "6337   5756.542013                No  \n",
       "\n",
       "[6195 rows x 16 columns]"
      ]
     },
     "execution_count": 13,
     "metadata": {},
     "output_type": "execute_result"
    }
   ],
   "source": [
    "df = df[df.ServiceSpan > 0]\n",
    "df"
   ]
  },
  {
   "cell_type": "code",
   "execution_count": 14,
   "metadata": {},
   "outputs": [
    {
     "data": {
      "text/plain": [
       "No     4603\n",
       "Yes    1592\n",
       "Name: CustomerAttrition, dtype: int64"
      ]
     },
     "execution_count": 14,
     "metadata": {},
     "output_type": "execute_result"
    }
   ],
   "source": [
    "#Get the number of customers that churned\n",
    "df['CustomerAttrition'].value_counts()"
   ]
  },
  {
   "cell_type": "code",
   "execution_count": 15,
   "metadata": {},
   "outputs": [
    {
     "name": "stderr",
     "output_type": "stream",
     "text": [
      "C:\\Users\\Dell\\anaconda3\\lib\\site-packages\\seaborn\\_decorators.py:36: FutureWarning: Pass the following variable as a keyword arg: x. From version 0.12, the only valid positional argument will be `data`, and passing other arguments without an explicit keyword will result in an error or misinterpretation.\n",
      "  warnings.warn(\n"
     ]
    },
    {
     "data": {
      "text/plain": [
       "<AxesSubplot:xlabel='CustomerAttrition', ylabel='count'>"
      ]
     },
     "execution_count": 15,
     "metadata": {},
     "output_type": "execute_result"
    },
    {
     "data": {
      "image/png": "[encoded data removed]",
      "text/plain": [
       "<Figure size 432x288 with 1 Axes>"
      ]
     },
     "metadata": {
      "needs_background": "light"
     },
     "output_type": "display_data"
    }
   ],
   "source": [
    "sns.countplot(df['CustomerAttrition'])"
   ]
  },
  {
   "cell_type": "code",
   "execution_count": 16,
   "metadata": {},
   "outputs": [
    {
     "name": "stdout",
     "output_type": "stream",
     "text": [
      "74.30185633575465 % of customers stayed with the company.\n",
      "25.69814366424536 % of customers left the company.\n"
     ]
    }
   ],
   "source": [
    "#What percentage of customers are leaving ?\n",
    "retained = df[df.CustomerAttrition == 'No']\n",
    "churned = df[df.CustomerAttrition == 'Yes']\n",
    "num_retained = retained.shape[0]\n",
    "num_churned = churned.shape[0]\n",
    "#Print the percentage of customers that stayed and left\n",
    "print( num_retained / (num_retained + num_churned) * 100 , \"% of customers stayed with the company.\")\n",
    "#Print the percentage of customers that stayed and left\n",
    "print( num_churned / (num_retained + num_churned) * 100,\"% of customers left the company.\")"
   ]
  },
  {
   "cell_type": "code",
   "execution_count": 17,
   "metadata": {},
   "outputs": [
    {
     "data": {
      "text/plain": [
       "<AxesSubplot:xlabel='sex', ylabel='count'>"
      ]
     },
     "execution_count": 17,
     "metadata": {},
     "output_type": "execute_result"
    },
    {
     "data": {
      "image/png": "[encoded data removed]",
      "text/plain": [
       "<Figure size 432x288 with 1 Axes>"
      ]
     },
     "metadata": {
      "needs_background": "light"
     },
     "output_type": "display_data"
    }
   ],
   "source": [
    "#Visualize the churn count for both Males and Females\n",
    "sns.countplot(x='sex', hue='CustomerAttrition',data = df)"
   ]
  },
  {
   "cell_type": "code",
   "execution_count": 18,
   "metadata": {},
   "outputs": [
    {
     "data": {
      "text/plain": [
       "<AxesSubplot:xlabel='4GService', ylabel='count'>"
      ]
     },
     "execution_count": 18,
     "metadata": {},
     "output_type": "execute_result"
    },
    {
     "data": {
      "image/png": "[encoded data removed]",
      "text/plain": [
       "<Figure size 432x288 with 1 Axes>"
      ]
     },
     "metadata": {
      "needs_background": "light"
     },
     "output_type": "display_data"
    }
   ],
   "source": [
    "#Visualize the churn count for the internet service\n",
    "sns.countplot(x='4GService', hue='CustomerAttrition', data = df)"
   ]
  },
  {
   "cell_type": "code",
   "execution_count": 19,
   "metadata": {},
   "outputs": [
    {
     "data": {
      "text/plain": [
       "array([<AxesSubplot:title={'center':'QuarterlyPayment'}>,\n",
       "       <AxesSubplot:title={'center':'GrandPayment'}>], dtype=object)"
      ]
     },
     "execution_count": 19,
     "metadata": {},
     "output_type": "execute_result"
    },
    {
     "data": {
      "image/png": "[encoded data removed]",
      "text/plain": [
       "<Figure size 2016x576 with 2 Axes>"
      ]
     },
     "metadata": {
      "needs_background": "light"
     },
     "output_type": "display_data"
    }
   ],
   "source": [
    "numerical_features = ['QuarterlyPayment', 'GrandPayment']\n",
    "fig, ax = plt.subplots(1, 2, figsize=(28, 8))\n",
    "df[df.CustomerAttrition == 'No'][numerical_features].hist(bins=20, color=\"blue\", alpha=0.5, ax=ax)\n",
    "df[df.CustomerAttrition == 'Yes'][numerical_features].hist(bins=20, color=\"orange\", alpha=0.5, ax=ax)"
   ]
  },
  {
   "cell_type": "code",
   "execution_count": 20,
   "metadata": {},
   "outputs": [],
   "source": [
    "#Remove the unnecessary column customerID\n",
    "cleaned_df = df.drop('ID', axis=1)"
   ]
  },
  {
   "cell_type": "code",
   "execution_count": 21,
   "metadata": {},
   "outputs": [
    {
     "data": {
      "text/plain": [
       "(6195, 15)"
      ]
     },
     "execution_count": 21,
     "metadata": {},
     "output_type": "execute_result"
    }
   ],
   "source": [
    "cleaned_df.shape"
   ]
  },
  {
   "cell_type": "code",
   "execution_count": null,
   "metadata": {},
   "outputs": [],
   "source": []
  },
  {
   "cell_type": "code",
   "execution_count": 22,
   "metadata": {},
   "outputs": [
    {
     "data": {
      "text/html": [
       "<div>\n",
       "<style scoped>\n",
       "    .dataframe tbody tr th:only-of-type {\n",
       "        vertical-align: middle;\n",
       "    }\n",
       "\n",
       "    .dataframe tbody tr th {\n",
       "        vertical-align: top;\n",
       "    }\n",
       "\n",
       "    .dataframe thead th {\n",
       "        text-align: right;\n",
       "    }\n",
       "</style>\n",
       "<table border=\"1\" class=\"dataframe\">\n",
       "  <thead>\n",
       "    <tr style=\"text-align: right;\">\n",
       "      <th></th>\n",
       "      <th>sex</th>\n",
       "      <th>Aged</th>\n",
       "      <th>Married</th>\n",
       "      <th>TotalDependents</th>\n",
       "      <th>ServiceSpan</th>\n",
       "      <th>MobileService</th>\n",
       "      <th>4GService</th>\n",
       "      <th>CyberProtection</th>\n",
       "      <th>HardwareSupport</th>\n",
       "      <th>TechnicalAssistance</th>\n",
       "      <th>FilmSubscription</th>\n",
       "      <th>SettlementProcess</th>\n",
       "      <th>QuarterlyPayment</th>\n",
       "      <th>GrandPayment</th>\n",
       "      <th>CustomerAttrition</th>\n",
       "    </tr>\n",
       "  </thead>\n",
       "  <tbody>\n",
       "    <tr>\n",
       "      <th>0</th>\n",
       "      <td>Female</td>\n",
       "      <td>No</td>\n",
       "      <td>No</td>\n",
       "      <td>Yes</td>\n",
       "      <td>48</td>\n",
       "      <td>Yes</td>\n",
       "      <td>Wifi Broadband</td>\n",
       "      <td>No</td>\n",
       "      <td>Yes</td>\n",
       "      <td>Yes</td>\n",
       "      <td>No</td>\n",
       "      <td>Check</td>\n",
       "      <td>96.259802</td>\n",
       "      <td>4628.129119</td>\n",
       "      <td>Yes</td>\n",
       "    </tr>\n",
       "    <tr>\n",
       "      <th>1</th>\n",
       "      <td>Male</td>\n",
       "      <td>No</td>\n",
       "      <td>Yes</td>\n",
       "      <td>No</td>\n",
       "      <td>45</td>\n",
       "      <td>Yes</td>\n",
       "      <td>Wifi Broadband</td>\n",
       "      <td>No</td>\n",
       "      <td>No</td>\n",
       "      <td>No</td>\n",
       "      <td>Yes</td>\n",
       "      <td>Bank</td>\n",
       "      <td>18.876470</td>\n",
       "      <td>922.085998</td>\n",
       "      <td>No</td>\n",
       "    </tr>\n",
       "    <tr>\n",
       "      <th>2</th>\n",
       "      <td>Male</td>\n",
       "      <td>Yes</td>\n",
       "      <td>Yes</td>\n",
       "      <td>No</td>\n",
       "      <td>59</td>\n",
       "      <td>Yes</td>\n",
       "      <td>Wifi Broadband</td>\n",
       "      <td>Yes</td>\n",
       "      <td>No</td>\n",
       "      <td>Yes</td>\n",
       "      <td>No</td>\n",
       "      <td>Card</td>\n",
       "      <td>106.016057</td>\n",
       "      <td>6205.891129</td>\n",
       "      <td>Yes</td>\n",
       "    </tr>\n",
       "    <tr>\n",
       "      <th>3</th>\n",
       "      <td>Male</td>\n",
       "      <td>No</td>\n",
       "      <td>No</td>\n",
       "      <td>No</td>\n",
       "      <td>14</td>\n",
       "      <td>Yes</td>\n",
       "      <td>Wifi Broadband</td>\n",
       "      <td>No</td>\n",
       "      <td>No</td>\n",
       "      <td>No</td>\n",
       "      <td>No</td>\n",
       "      <td>Check</td>\n",
       "      <td>80.108839</td>\n",
       "      <td>1248.655391</td>\n",
       "      <td>No</td>\n",
       "    </tr>\n",
       "  </tbody>\n",
       "</table>\n",
       "</div>"
      ],
      "text/plain": [
       "      sex Aged Married TotalDependents  ServiceSpan MobileService  \\\n",
       "0  Female   No      No             Yes           48           Yes   \n",
       "1    Male   No     Yes              No           45           Yes   \n",
       "2    Male  Yes     Yes              No           59           Yes   \n",
       "3    Male   No      No              No           14           Yes   \n",
       "\n",
       "        4GService CyberProtection HardwareSupport TechnicalAssistance  \\\n",
       "0  Wifi Broadband              No             Yes                 Yes   \n",
       "1  Wifi Broadband              No              No                  No   \n",
       "2  Wifi Broadband             Yes              No                 Yes   \n",
       "3  Wifi Broadband              No              No                  No   \n",
       "\n",
       "  FilmSubscription SettlementProcess  QuarterlyPayment  GrandPayment  \\\n",
       "0               No             Check         96.259802   4628.129119   \n",
       "1              Yes              Bank         18.876470    922.085998   \n",
       "2               No              Card        106.016057   6205.891129   \n",
       "3               No             Check         80.108839   1248.655391   \n",
       "\n",
       "  CustomerAttrition  \n",
       "0               Yes  \n",
       "1                No  \n",
       "2               Yes  \n",
       "3                No  "
      ]
     },
     "execution_count": 22,
     "metadata": {},
     "output_type": "execute_result"
    }
   ],
   "source": [
    "cleaned_df.head(4)"
   ]
  },
  {
   "cell_type": "code",
   "execution_count": null,
   "metadata": {},
   "outputs": [],
   "source": []
  },
  {
   "cell_type": "code",
   "execution_count": 23,
   "metadata": {},
   "outputs": [
    {
     "name": "stderr",
     "output_type": "stream",
     "text": [
      "<ipython-input-23-4d38c410cc28>:3: DeprecationWarning: Converting `np.inexact` or `np.floating` to a dtype is deprecated. The current result is `float64` which is not strictly correct.\n",
      "  if cleaned_df[column].dtype == np.number:\n"
     ]
    }
   ],
   "source": [
    "#Convert all the non-numeric columns to numerical data types\n",
    "for column in cleaned_df.columns:\n",
    "   if cleaned_df[column].dtype == np.number:\n",
    "      continue\n",
    "   cleaned_df[column] = LabelEncoder().fit_transform(cleaned_df[column])"
   ]
  },
  {
   "cell_type": "code",
   "execution_count": 24,
   "metadata": {},
   "outputs": [
    {
     "data": {
      "text/plain": [
       "sex                      int32\n",
       "Aged                     int32\n",
       "Married                  int32\n",
       "TotalDependents          int32\n",
       "ServiceSpan              int64\n",
       "MobileService            int32\n",
       "4GService                int32\n",
       "CyberProtection          int32\n",
       "HardwareSupport          int32\n",
       "TechnicalAssistance      int32\n",
       "FilmSubscription         int32\n",
       "SettlementProcess        int32\n",
       "QuarterlyPayment       float64\n",
       "GrandPayment           float64\n",
       "CustomerAttrition        int32\n",
       "dtype: object"
      ]
     },
     "execution_count": 24,
     "metadata": {},
     "output_type": "execute_result"
    }
   ],
   "source": [
    "cleaned_df.dtypes"
   ]
  },
  {
   "cell_type": "code",
   "execution_count": 25,
   "metadata": {},
   "outputs": [
    {
     "data": {
      "text/html": [
       "<div>\n",
       "<style scoped>\n",
       "    .dataframe tbody tr th:only-of-type {\n",
       "        vertical-align: middle;\n",
       "    }\n",
       "\n",
       "    .dataframe tbody tr th {\n",
       "        vertical-align: top;\n",
       "    }\n",
       "\n",
       "    .dataframe thead th {\n",
       "        text-align: right;\n",
       "    }\n",
       "</style>\n",
       "<table border=\"1\" class=\"dataframe\">\n",
       "  <thead>\n",
       "    <tr style=\"text-align: right;\">\n",
       "      <th></th>\n",
       "      <th>sex</th>\n",
       "      <th>Aged</th>\n",
       "      <th>Married</th>\n",
       "      <th>TotalDependents</th>\n",
       "      <th>ServiceSpan</th>\n",
       "      <th>MobileService</th>\n",
       "      <th>4GService</th>\n",
       "      <th>CyberProtection</th>\n",
       "      <th>HardwareSupport</th>\n",
       "      <th>TechnicalAssistance</th>\n",
       "      <th>FilmSubscription</th>\n",
       "      <th>SettlementProcess</th>\n",
       "      <th>QuarterlyPayment</th>\n",
       "      <th>GrandPayment</th>\n",
       "      <th>CustomerAttrition</th>\n",
       "    </tr>\n",
       "  </thead>\n",
       "  <tbody>\n",
       "    <tr>\n",
       "      <th>0</th>\n",
       "      <td>0</td>\n",
       "      <td>0</td>\n",
       "      <td>0</td>\n",
       "      <td>1</td>\n",
       "      <td>48</td>\n",
       "      <td>1</td>\n",
       "      <td>2</td>\n",
       "      <td>0</td>\n",
       "      <td>1</td>\n",
       "      <td>1</td>\n",
       "      <td>0</td>\n",
       "      <td>2</td>\n",
       "      <td>96.259802</td>\n",
       "      <td>4628.129119</td>\n",
       "      <td>1</td>\n",
       "    </tr>\n",
       "    <tr>\n",
       "      <th>1</th>\n",
       "      <td>1</td>\n",
       "      <td>0</td>\n",
       "      <td>1</td>\n",
       "      <td>0</td>\n",
       "      <td>45</td>\n",
       "      <td>1</td>\n",
       "      <td>2</td>\n",
       "      <td>0</td>\n",
       "      <td>0</td>\n",
       "      <td>0</td>\n",
       "      <td>1</td>\n",
       "      <td>0</td>\n",
       "      <td>18.876470</td>\n",
       "      <td>922.085998</td>\n",
       "      <td>0</td>\n",
       "    </tr>\n",
       "    <tr>\n",
       "      <th>2</th>\n",
       "      <td>1</td>\n",
       "      <td>1</td>\n",
       "      <td>1</td>\n",
       "      <td>0</td>\n",
       "      <td>59</td>\n",
       "      <td>1</td>\n",
       "      <td>2</td>\n",
       "      <td>1</td>\n",
       "      <td>0</td>\n",
       "      <td>1</td>\n",
       "      <td>0</td>\n",
       "      <td>1</td>\n",
       "      <td>106.016057</td>\n",
       "      <td>6205.891129</td>\n",
       "      <td>1</td>\n",
       "    </tr>\n",
       "    <tr>\n",
       "      <th>3</th>\n",
       "      <td>1</td>\n",
       "      <td>0</td>\n",
       "      <td>0</td>\n",
       "      <td>0</td>\n",
       "      <td>14</td>\n",
       "      <td>1</td>\n",
       "      <td>2</td>\n",
       "      <td>0</td>\n",
       "      <td>0</td>\n",
       "      <td>0</td>\n",
       "      <td>0</td>\n",
       "      <td>2</td>\n",
       "      <td>80.108839</td>\n",
       "      <td>1248.655391</td>\n",
       "      <td>0</td>\n",
       "    </tr>\n",
       "    <tr>\n",
       "      <th>4</th>\n",
       "      <td>0</td>\n",
       "      <td>0</td>\n",
       "      <td>1</td>\n",
       "      <td>1</td>\n",
       "      <td>25</td>\n",
       "      <td>1</td>\n",
       "      <td>2</td>\n",
       "      <td>0</td>\n",
       "      <td>1</td>\n",
       "      <td>0</td>\n",
       "      <td>1</td>\n",
       "      <td>2</td>\n",
       "      <td>51.529773</td>\n",
       "      <td>1285.321277</td>\n",
       "      <td>0</td>\n",
       "    </tr>\n",
       "  </tbody>\n",
       "</table>\n",
       "</div>"
      ],
      "text/plain": [
       "   sex  Aged  Married  TotalDependents  ServiceSpan  MobileService  4GService  \\\n",
       "0    0     0        0                1           48              1          2   \n",
       "1    1     0        1                0           45              1          2   \n",
       "2    1     1        1                0           59              1          2   \n",
       "3    1     0        0                0           14              1          2   \n",
       "4    0     0        1                1           25              1          2   \n",
       "\n",
       "   CyberProtection  HardwareSupport  TechnicalAssistance  FilmSubscription  \\\n",
       "0                0                1                    1                 0   \n",
       "1                0                0                    0                 1   \n",
       "2                1                0                    1                 0   \n",
       "3                0                0                    0                 0   \n",
       "4                0                1                    0                 1   \n",
       "\n",
       "   SettlementProcess  QuarterlyPayment  GrandPayment  CustomerAttrition  \n",
       "0                  2         96.259802   4628.129119                  1  \n",
       "1                  0         18.876470    922.085998                  0  \n",
       "2                  1        106.016057   6205.891129                  1  \n",
       "3                  2         80.108839   1248.655391                  0  \n",
       "4                  2         51.529773   1285.321277                  0  "
      ]
     },
     "execution_count": 25,
     "metadata": {},
     "output_type": "execute_result"
    }
   ],
   "source": [
    "#Show the first 5 rows of the new data set\n",
    "cleaned_df.head()"
   ]
  },
  {
   "cell_type": "code",
   "execution_count": 26,
   "metadata": {},
   "outputs": [
    {
     "name": "stdout",
     "output_type": "stream",
     "text": [
      "sex:[0 1]\n",
      "Aged:[0 1]\n",
      "Married:[0 1]\n",
      "TotalDependents:[1 0]\n",
      "ServiceSpan:[48 45 59 14 25 27 53  0  1 46 67 24 61 54  9 30 18  5 64  3 41 40 31 21\n",
      " 15  6 69 72 33 71  2 36  8 37 34 28 60 22 68 11 39 58 10 50  4 44 49 38\n",
      " 55 51 16 65 13 26 19 57 70 73 42 35 62 23 56 47 63 32 29  7 20 43 12 52\n",
      " 17 66]\n",
      "MobileService:[1 0]\n",
      "4GService:[2 1 0]\n",
      "CyberProtection:[0 1]\n",
      "HardwareSupport:[1 0]\n",
      "TechnicalAssistance:[1 0]\n",
      "FilmSubscription:[0 1]\n",
      "SettlementProcess:[2 0 1 3]\n",
      "QuarterlyPayment:[ 96.25980197  18.87647016 106.0160571  ...  35.94171339  94.76298428\n",
      "  94.3373432 ]\n",
      "GrandPayment:[4628.129119   922.0859985 6205.891129  ...  552.1813408 4563.812326\n",
      " 5756.542013 ]\n",
      "CustomerAttrition:[1 0]\n"
     ]
    }
   ],
   "source": [
    "for col in cleaned_df:\n",
    "    print(f'{col}:{cleaned_df[col].unique()}')"
   ]
  },
  {
   "cell_type": "code",
   "execution_count": 27,
   "metadata": {},
   "outputs": [],
   "source": [
    "cleaned_df['log_GrandPayment'] = np.log(cleaned_df['GrandPayment'])\n",
    "# We created a new column to store the log values"
   ]
  },
  {
   "cell_type": "code",
   "execution_count": 28,
   "metadata": {},
   "outputs": [],
   "source": [
    "cols_to_scale = ['ServiceSpan','QuarterlyPayment','GrandPayment','log_GrandPayment']\n",
    "\n",
    "from sklearn.preprocessing import MinMaxScaler\n",
    "scaler = MinMaxScaler()\n",
    "\n",
    "cleaned_df[cols_to_scale] = scaler.fit_transform(cleaned_df[cols_to_scale])"
   ]
  },
  {
   "cell_type": "code",
   "execution_count": 29,
   "metadata": {},
   "outputs": [
    {
     "data": {
      "text/html": [
       "<div>\n",
       "<style scoped>\n",
       "    .dataframe tbody tr th:only-of-type {\n",
       "        vertical-align: middle;\n",
       "    }\n",
       "\n",
       "    .dataframe tbody tr th {\n",
       "        vertical-align: top;\n",
       "    }\n",
       "\n",
       "    .dataframe thead th {\n",
       "        text-align: right;\n",
       "    }\n",
       "</style>\n",
       "<table border=\"1\" class=\"dataframe\">\n",
       "  <thead>\n",
       "    <tr style=\"text-align: right;\">\n",
       "      <th></th>\n",
       "      <th>sex</th>\n",
       "      <th>Aged</th>\n",
       "      <th>Married</th>\n",
       "      <th>TotalDependents</th>\n",
       "      <th>ServiceSpan</th>\n",
       "      <th>MobileService</th>\n",
       "      <th>4GService</th>\n",
       "      <th>CyberProtection</th>\n",
       "      <th>HardwareSupport</th>\n",
       "      <th>TechnicalAssistance</th>\n",
       "      <th>FilmSubscription</th>\n",
       "      <th>SettlementProcess</th>\n",
       "      <th>QuarterlyPayment</th>\n",
       "      <th>GrandPayment</th>\n",
       "      <th>CustomerAttrition</th>\n",
       "      <th>log_GrandPayment</th>\n",
       "    </tr>\n",
       "  </thead>\n",
       "  <tbody>\n",
       "    <tr>\n",
       "      <th>0</th>\n",
       "      <td>0</td>\n",
       "      <td>0</td>\n",
       "      <td>0</td>\n",
       "      <td>1</td>\n",
       "      <td>0.657534</td>\n",
       "      <td>1</td>\n",
       "      <td>2</td>\n",
       "      <td>0</td>\n",
       "      <td>1</td>\n",
       "      <td>1</td>\n",
       "      <td>0</td>\n",
       "      <td>2</td>\n",
       "      <td>0.769434</td>\n",
       "      <td>0.531909</td>\n",
       "      <td>1</td>\n",
       "      <td>0.898859</td>\n",
       "    </tr>\n",
       "    <tr>\n",
       "      <th>1</th>\n",
       "      <td>1</td>\n",
       "      <td>0</td>\n",
       "      <td>1</td>\n",
       "      <td>0</td>\n",
       "      <td>0.616438</td>\n",
       "      <td>1</td>\n",
       "      <td>2</td>\n",
       "      <td>0</td>\n",
       "      <td>0</td>\n",
       "      <td>0</td>\n",
       "      <td>1</td>\n",
       "      <td>0</td>\n",
       "      <td>0.022887</td>\n",
       "      <td>0.104386</td>\n",
       "      <td>0</td>\n",
       "      <td>0.639676</td>\n",
       "    </tr>\n",
       "    <tr>\n",
       "      <th>2</th>\n",
       "      <td>1</td>\n",
       "      <td>1</td>\n",
       "      <td>1</td>\n",
       "      <td>0</td>\n",
       "      <td>0.808219</td>\n",
       "      <td>1</td>\n",
       "      <td>2</td>\n",
       "      <td>1</td>\n",
       "      <td>0</td>\n",
       "      <td>1</td>\n",
       "      <td>0</td>\n",
       "      <td>1</td>\n",
       "      <td>0.863556</td>\n",
       "      <td>0.713916</td>\n",
       "      <td>1</td>\n",
       "      <td>0.945988</td>\n",
       "    </tr>\n",
       "    <tr>\n",
       "      <th>3</th>\n",
       "      <td>1</td>\n",
       "      <td>0</td>\n",
       "      <td>0</td>\n",
       "      <td>0</td>\n",
       "      <td>0.191781</td>\n",
       "      <td>1</td>\n",
       "      <td>2</td>\n",
       "      <td>0</td>\n",
       "      <td>0</td>\n",
       "      <td>0</td>\n",
       "      <td>0</td>\n",
       "      <td>2</td>\n",
       "      <td>0.613619</td>\n",
       "      <td>0.142058</td>\n",
       "      <td>0</td>\n",
       "      <td>0.688385</td>\n",
       "    </tr>\n",
       "    <tr>\n",
       "      <th>4</th>\n",
       "      <td>0</td>\n",
       "      <td>0</td>\n",
       "      <td>1</td>\n",
       "      <td>1</td>\n",
       "      <td>0.342466</td>\n",
       "      <td>1</td>\n",
       "      <td>2</td>\n",
       "      <td>0</td>\n",
       "      <td>1</td>\n",
       "      <td>0</td>\n",
       "      <td>1</td>\n",
       "      <td>2</td>\n",
       "      <td>0.337906</td>\n",
       "      <td>0.146288</td>\n",
       "      <td>0</td>\n",
       "      <td>0.693034</td>\n",
       "    </tr>\n",
       "  </tbody>\n",
       "</table>\n",
       "</div>"
      ],
      "text/plain": [
       "   sex  Aged  Married  TotalDependents  ServiceSpan  MobileService  4GService  \\\n",
       "0    0     0        0                1     0.657534              1          2   \n",
       "1    1     0        1                0     0.616438              1          2   \n",
       "2    1     1        1                0     0.808219              1          2   \n",
       "3    1     0        0                0     0.191781              1          2   \n",
       "4    0     0        1                1     0.342466              1          2   \n",
       "\n",
       "   CyberProtection  HardwareSupport  TechnicalAssistance  FilmSubscription  \\\n",
       "0                0                1                    1                 0   \n",
       "1                0                0                    0                 1   \n",
       "2                1                0                    1                 0   \n",
       "3                0                0                    0                 0   \n",
       "4                0                1                    0                 1   \n",
       "\n",
       "   SettlementProcess  QuarterlyPayment  GrandPayment  CustomerAttrition  \\\n",
       "0                  2          0.769434      0.531909                  1   \n",
       "1                  0          0.022887      0.104386                  0   \n",
       "2                  1          0.863556      0.713916                  1   \n",
       "3                  2          0.613619      0.142058                  0   \n",
       "4                  2          0.337906      0.146288                  0   \n",
       "\n",
       "   log_GrandPayment  \n",
       "0          0.898859  \n",
       "1          0.639676  \n",
       "2          0.945988  \n",
       "3          0.688385  \n",
       "4          0.693034  "
      ]
     },
     "execution_count": 29,
     "metadata": {},
     "output_type": "execute_result"
    }
   ],
   "source": [
    "cleaned_df.head()"
   ]
  },
  {
   "cell_type": "code",
   "execution_count": 30,
   "metadata": {},
   "outputs": [
    {
     "data": {
      "text/plain": [
       "(6195, 16)"
      ]
     },
     "execution_count": 30,
     "metadata": {},
     "output_type": "execute_result"
    }
   ],
   "source": [
    "cleaned_df.shape"
   ]
  },
  {
   "cell_type": "code",
   "execution_count": 31,
   "metadata": {},
   "outputs": [],
   "source": [
    "#Scale the cleaned data\n",
    "X = cleaned_df.drop('CustomerAttrition', axis = 1) \n",
    "y = cleaned_df['CustomerAttrition']\n",
    "#Standardizing/scaling the features\n",
    "X = StandardScaler().fit_transform(X)"
   ]
  },
  {
   "cell_type": "code",
   "execution_count": 44,
   "metadata": {},
   "outputs": [],
   "source": [
    "#Split the data into 80% training and 20% testing\n",
    "x_train, x_test, y_train, y_test = train_test_split(X, y, test_size=0.17, random_state=42)"
   ]
  },
  {
   "cell_type": "code",
   "execution_count": 45,
   "metadata": {},
   "outputs": [],
   "source": [
    "from sklearn.metrics import confusion_matrix\n",
    "from sklearn.metrics import accuracy_score\n",
    "from sklearn.tree import DecisionTreeClassifier\n",
    "from sklearn.neighbors import KNeighborsClassifier\n",
    "from sklearn.discriminant_analysis import LinearDiscriminantAnalysis\n",
    "from sklearn.naive_bayes import GaussianNB\n",
    "from sklearn.svm import SVC"
   ]
  },
  {
   "cell_type": "code",
   "execution_count": 46,
   "metadata": {},
   "outputs": [],
   "source": [
    "# identify outliers in the training dataset\n",
    "lof = LocalOutlierFactor()\n",
    "yhat = lof.fit_predict(x_train)"
   ]
  },
  {
   "cell_type": "code",
   "execution_count": 47,
   "metadata": {},
   "outputs": [],
   "source": [
    "# select all rows that are not outliers\n",
    "mask = yhat != -1\n",
    "x_train, y_train = x_train[mask, :], y_train[mask]"
   ]
  },
  {
   "cell_type": "code",
   "execution_count": 48,
   "metadata": {},
   "outputs": [
    {
     "name": "stdout",
     "output_type": "stream",
     "text": [
      "(4638, 15) (4638,)\n"
     ]
    }
   ],
   "source": [
    "# summarize the shape of the updated training dataset\n",
    "print(x_train.shape, y_train.shape)"
   ]
  },
  {
   "cell_type": "code",
   "execution_count": 49,
   "metadata": {},
   "outputs": [
    {
     "name": "stdout",
     "output_type": "stream",
     "text": [
      "0.7869593285990962\n",
      "[[1051   95]\n",
      " [ 235  168]]\n",
      "              precision    recall  f1-score   support\n",
      "\n",
      "           0       0.82      0.92      0.86      1146\n",
      "           1       0.64      0.42      0.50       403\n",
      "\n",
      "    accuracy                           0.79      1549\n",
      "   macro avg       0.73      0.67      0.68      1549\n",
      "weighted avg       0.77      0.79      0.77      1549\n",
      "\n"
     ]
    }
   ],
   "source": [
    "# Make predictions on validation dataset with Logistic Regression \n",
    "logic = LogisticRegression()\n",
    "logic.fit(x_train, y_train)\n",
    "predictions = logic.predict(x_test)\n",
    "print(accuracy_score(y_test, predictions))\n",
    "print(confusion_matrix(y_test, predictions))\n",
    "print(classification_report(y_test, predictions))"
   ]
  },
  {
   "cell_type": "code",
   "execution_count": null,
   "metadata": {},
   "outputs": [],
   "source": []
  }
 ],
 "metadata": {
  "kernelspec": {
   "display_name": "Python 3",
   "language": "python",
   "name": "python3"
  },
  "language_info": {
   "codemirror_mode": {
    "name": "ipython",
    "version": 3
   },
   "file_extension": ".py",
   "mimetype": "text/x-python",
   "name": "python",
   "nbconvert_exporter": "python",
   "pygments_lexer": "ipython3",
   "version": "3.8.5"
  }
 },
 "nbformat": 4,
 "nbformat_minor": 4
}
